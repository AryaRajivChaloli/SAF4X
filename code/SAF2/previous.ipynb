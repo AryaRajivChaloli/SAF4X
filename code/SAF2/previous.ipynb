{
 "cells": [
  {
   "cell_type": "code",
   "execution_count": 2,
   "metadata": {},
   "outputs": [],
   "source": [
    "import string\n",
    "from langdetect import detect  \n",
    "from translate import translator\n",
    "import re\n",
    "import sys\n",
    "import nltk\n",
    "import enchant\n",
    "from indic_transliteration import sanscript \n",
    "from indic_transliteration.sanscript import transliterate \n",
    "d = enchant.Dict(\"en_US\")"
   ]
  },
  {
   "cell_type": "code",
   "execution_count": 8,
   "metadata": {},
   "outputs": [
    {
     "name": "stdout",
     "output_type": "stream",
     "text": [
      "से\n"
     ]
    },
    {
     "data": {
      "text/plain": [
       "'From'"
      ]
     },
     "execution_count": 8,
     "metadata": {},
     "output_type": "execute_result"
    }
   ],
   "source": [
    "from googletrans import Translator\n",
    "qword = transliterate(\"se\", sanscript.ITRANS, sanscript.DEVANAGARI)\n",
    "print(qword)\n",
    "translator = Translator()\n",
    "(translator.translate(qword, dest='en')).text"
   ]
  },
  {
   "cell_type": "code",
   "execution_count": 9,
   "metadata": {},
   "outputs": [],
   "source": [
    "def  check_en(qword):\n",
    "    if(d.check(qword)):\n",
    "        return qword\n",
    "    else:\n",
    "        qword = transliterate(qword, sanscript.ITRANS, sanscript.DEVANAGARI)\n",
    "        return translator('hi', 'en', qword)\n",
    "\n",
    "def convertToEng(text):\n",
    "    qwords = text.split()\n",
    "    trans_en = []\n",
    "    for qword in qwords:\n",
    "        trans_en.append(check_en(qword.lower()))\n",
    "    print(\"list---\", trans_en)\n",
    "    return \" \".join(trans_en)\n",
    "\n",
    "\n",
    "#eng_text = convertToEng(\"is tarah se dekhne se kuchh nahi hota\")\n",
    "#print(eng_text)"
   ]
  },
  {
   "cell_type": "code",
   "execution_count": null,
   "metadata": {},
   "outputs": [],
   "source": []
  }
 ],
 "metadata": {
  "kernelspec": {
   "display_name": "Python 3",
   "language": "python",
   "name": "python3"
  },
  "language_info": {
   "codemirror_mode": {
    "name": "ipython",
    "version": 3
   },
   "file_extension": ".py",
   "mimetype": "text/x-python",
   "name": "python",
   "nbconvert_exporter": "python",
   "pygments_lexer": "ipython3",
   "version": "3.7.6"
  }
 },
 "nbformat": 4,
 "nbformat_minor": 4
}
